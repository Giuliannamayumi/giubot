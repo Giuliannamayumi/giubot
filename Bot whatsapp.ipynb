{
 "cells": [
  {
   "cell_type": "code",
   "execution_count": 9,
   "metadata": {},
   "outputs": [],
   "source": [
    "import pandas as pd"
   ]
  },
  {
   "cell_type": "code",
   "execution_count": 10,
   "metadata": {},
   "outputs": [],
   "source": [
    "msg = pd.read_excel ( 'mensagens.xlsx')"
   ]
  },
  {
   "cell_type": "code",
   "execution_count": 11,
   "metadata": {},
   "outputs": [
    {
     "data": {
      "text/html": [
       "<div>\n",
       "<style scoped>\n",
       "    .dataframe tbody tr th:only-of-type {\n",
       "        vertical-align: middle;\n",
       "    }\n",
       "\n",
       "    .dataframe tbody tr th {\n",
       "        vertical-align: top;\n",
       "    }\n",
       "\n",
       "    .dataframe thead th {\n",
       "        text-align: right;\n",
       "    }\n",
       "</style>\n",
       "<table border=\"1\" class=\"dataframe\">\n",
       "  <thead>\n",
       "    <tr style=\"text-align: right;\">\n",
       "      <th></th>\n",
       "      <th>Contato</th>\n",
       "      <th>Nome</th>\n",
       "      <th>Link</th>\n",
       "      <th>Mensagem</th>\n",
       "    </tr>\n",
       "  </thead>\n",
       "  <tbody>\n",
       "    <tr>\n",
       "      <th>0</th>\n",
       "      <td>Bot</td>\n",
       "      <td>João</td>\n",
       "      <td>http://aaa.bbb</td>\n",
       "      <td>Olá João, Obrigado pela sua compra! Segue o se...</td>\n",
       "    </tr>\n",
       "    <tr>\n",
       "      <th>1</th>\n",
       "      <td>Tym</td>\n",
       "      <td>Tie</td>\n",
       "      <td>http://aaa.bbb</td>\n",
       "      <td>Olá Tie, Obrigado pela sua compra! Segue o seu...</td>\n",
       "    </tr>\n",
       "    <tr>\n",
       "      <th>2</th>\n",
       "      <td>Alessandra</td>\n",
       "      <td>Alessandra</td>\n",
       "      <td>http://aaa.bbb</td>\n",
       "      <td>Olá Alessandra, Obrigado pela sua compra! Segu...</td>\n",
       "    </tr>\n",
       "  </tbody>\n",
       "</table>\n",
       "</div>"
      ],
      "text/plain": [
       "      Contato        Nome            Link  \\\n",
       "0         Bot        João  http://aaa.bbb   \n",
       "1         Tym         Tie  http://aaa.bbb   \n",
       "2  Alessandra  Alessandra  http://aaa.bbb   \n",
       "\n",
       "                                            Mensagem  \n",
       "0  Olá João, Obrigado pela sua compra! Segue o se...  \n",
       "1  Olá Tie, Obrigado pela sua compra! Segue o seu...  \n",
       "2  Olá Alessandra, Obrigado pela sua compra! Segu...  "
      ]
     },
     "execution_count": 11,
     "metadata": {},
     "output_type": "execute_result"
    }
   ],
   "source": [
    "msg"
   ]
  },
  {
   "cell_type": "code",
   "execution_count": 12,
   "metadata": {},
   "outputs": [
    {
     "name": "stdout",
     "output_type": "stream",
     "text": [
      "Loading...\n",
      "Please scan the QR Code\n",
      "Pressione enter apos escanear o QR Code\n"
     ]
    }
   ],
   "source": [
    "\"\"\"\n",
    "NOTE: This example has been presented at the following course: https://www.udemy.com/course/aprenda-a-programar-um-bot-do-whatsapp\n",
    "\"\"\"\n",
    "\n",
    "# Importar pacotes necessarios\n",
    "from time import sleep\n",
    "from whatsapp_api import WhatsApp\n",
    "\n",
    "# Inicializar o whatsapp\n",
    "wp = WhatsApp()\n",
    "\n",
    "# Esperar que enter seja pressionado\n",
    "input(\"Pressione enter apos escanear o QR Code\")\n",
    "\n",
    "# Lista de nomes ou nomeros de telefone a serem pesquisados\n",
    "# IMPORTANTE: O nome deve ser nao ambiguo pois ele retornara o primeiro resultado\n",
    "#nomes_palavras_chaves = ['Luciano Bot', 'Aline Bot', 'Beatriz Bot', \n",
    "#                         'Joao Bot', 'Maria Bot', 'Pedro Bot']\n",
    "\n",
    "\n",
    "nomes_palavras_chaves = list(msg['Contato'])\n",
    "\n",
    "mensagens = list(msg['Mensagem'])\n",
    "\n",
    "# Lista dos nomes que vou me referir na mensagem\n",
    "# primeiros_nomes = [n.split(' ')[0] for n in nomes_palavras_chaves]\n",
    "#primeiros_nomes = ['Luciano', 'Aline', 'Beatriz', 'Joao', \n",
    "#                   'Maria', 'Pedro']\n",
    "\n",
    "#lista_produtos = ['acucar', 'feijao', 'bicicleta', 'cenoura', 'abacate', 'beringela']\n",
    "\n",
    "# Loop para mandar mensagens para os clientes\n",
    "for nome_pesquisar, mensagem in zip(nomes_palavras_chaves, mensagens):\n",
    "    \n",
    "    # Pesquisar pelo contato e esperar um pouco\n",
    "    wp.search_contact(nome_pesquisar)\n",
    "    sleep(2)\n",
    "    \n",
    "    # Enviar mensagem\n",
    "    wp.send_message(mensagem)\n",
    "\n",
    "# Esperar 10 segundos e fechar\n",
    "sleep(10)\n",
    "wp.driver.close()"
   ]
  },
  {
   "cell_type": "code",
   "execution_count": null,
   "metadata": {},
   "outputs": [],
   "source": []
  }
 ],
 "metadata": {
  "kernelspec": {
   "display_name": "Python 3",
   "language": "python",
   "name": "python3"
  },
  "language_info": {
   "codemirror_mode": {
    "name": "ipython",
    "version": 3
   },
   "file_extension": ".py",
   "mimetype": "text/x-python",
   "name": "python",
   "nbconvert_exporter": "python",
   "pygments_lexer": "ipython3",
   "version": "3.7.6"
  }
 },
 "nbformat": 4,
 "nbformat_minor": 4
}
